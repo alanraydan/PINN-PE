{
 "cells": [
  {
   "cell_type": "code",
   "execution_count": 1,
   "outputs": [
    {
     "name": "stderr",
     "output_type": "stream",
     "text": [
      "Using backend: pytorch\n",
      "\n"
     ]
    }
   ],
   "source": [
    "import deepxde as dde\n",
    "import numpy as np"
   ],
   "metadata": {
    "collapsed": false,
    "pycharm": {
     "name": "#%%\n"
    }
   }
  },
  {
   "cell_type": "code",
   "execution_count": 2,
   "outputs": [],
   "source": [
    "# --Full viscosity and diffusivity--\n",
    "v_z = 1.0\n",
    "v_h = 1.0\n",
    "k_z = 1.0\n",
    "k_h = 1.0\n",
    "Q = lambda t, x, z: 0.0"
   ],
   "metadata": {
    "collapsed": false,
    "pycharm": {
     "name": "#%%\n"
    }
   }
  },
  {
   "cell_type": "code",
   "execution_count": 3,
   "outputs": [
    {
     "name": "stdout",
     "output_type": "stream",
     "text": [
      "Set the default float type to float64\n",
      "Warning: 71 points required, but 81 points sampled.\n",
      "Warning: 5000 points required, but 5751 points sampled.\n",
      "Warning: 31 points required, but 32 points sampled.\n",
      "Warning: 500 points required, but 544 points sampled.\n",
      "Warning: 500 points required, but 529 points sampled.\n",
      "Warning: 500 points required, but 529 points sampled.\n",
      "Compiling model...\n",
      "'compile' took 0.000072 s\n",
      "\n",
      "Training model...\n",
      "\n",
      "Warning: Rectangle boundary_normal called on vertices. You may use PDE(..., exclusions=...) to exclude the vertices.\n",
      "Warning: Rectangle boundary_normal called on vertices. You may use PDE(..., exclusions=...) to exclude the vertices.\n",
      "Step      Train loss                                                                                                                                                          Test loss                                                                                                                                                           Test metric\n",
      "0         [9.18e-03, 8.16e-02, 6.24e-02, 8.44e-02, 2.73e-01, 8.53e-04, 2.74e-02, 2.89e-04, 5.28e-03, 3.10e-03, 4.72e-03, 1.47e-04, 9.83e-02, 1.54e-01, 1.71e-03, 2.90e-02]    [9.18e-03, 8.16e-02, 6.24e-02, 8.44e-02, 2.73e-01, 8.53e-04, 2.74e-02, 2.89e-04, 5.28e-03, 3.10e-03, 4.72e-03, 1.47e-04, 9.83e-02, 1.54e-01, 1.71e-03, 2.90e-02]    []  \n",
      "100       [5.45e-05, 3.74e-06, 2.19e-05, 1.75e-05, 2.25e-01, 1.34e-06, 1.13e-05, 4.17e-03, 6.64e-03, 5.06e-06, 1.75e-06, 2.29e-06, 8.89e-07, 1.05e-05, 2.50e-06, 2.84e-06]    [5.45e-05, 3.74e-06, 2.19e-05, 1.75e-05, 2.25e-01, 1.34e-06, 1.13e-05, 4.17e-03, 6.64e-03, 5.06e-06, 1.75e-06, 2.29e-06, 8.89e-07, 1.05e-05, 2.50e-06, 2.84e-06]    []  \n",
      "\n",
      "Best model at step 100:\n",
      "  train loss: 2.36e-01\n",
      "  test loss: 2.36e-01\n",
      "  test metric: []\n",
      "\n",
      "'train' took 37.427175 s\n",
      "\n",
      "Saving loss history to /Users/alanraydan/Development/PINN_project/loss.dat ...\n",
      "Saving training data to /Users/alanraydan/Development/PINN_project/train.dat ...\n",
      "Saving test data to /Users/alanraydan/Development/PINN_project/test.dat ...\n"
     ]
    },
    {
     "data": {
      "text/plain": "<Figure size 432x288 with 1 Axes>",
      "image/png": "[encoded data removed]"
     },
     "metadata": {
      "needs_background": "light"
     },
     "output_type": "display_data"
    }
   ],
   "source": [
    "# --Setup space and time domains--\n",
    "x_min, x_max = 0, 1\n",
    "z_min, z_max = 0, 1\n",
    "t_min, t_max = 0, 1\n",
    "space_domain = dde.geometry.Rectangle([x_min, z_min], [x_max, z_max])\n",
    "time_domain = dde.geometry.TimeDomain(t_min, t_max)\n",
    "geomtime = dde.geometry.GeometryXTime(space_domain, time_domain)\n",
    "\n",
    "# --Reference solution--\n",
    "def solution(xzt):\n",
    "    x = xzt[:, 0:1]\n",
    "    z = xzt[:, 1:2]\n",
    "    t = xzt[:, 2:3]\n",
    "    \n",
    "    u = -np.sin(np.pi*x) * np.cos(np.pi*z) * np.exp(-np.pi*np.pi*(v_h + v_z)*t)\n",
    "    w = np.cos(np.pi*x) * np.sin(np.pi*z) * np.exp(-np.pi*np.pi*(v_h + v_z)*t)\n",
    "    p = np.cos(2*np.pi*x) * np.exp(-2*np.pi*np.pi*(v_h + v_z)*t) / 4.0\n",
    "    T = 0\n",
    "    \n",
    "    return np.hstack((u, w, p, T))\n",
    "\n",
    "# --PDE interior residuals--\n",
    "def primitive_equations(x, y):\n",
    "    u = y[:, 0:1]\n",
    "    w = y[:, 1:2]\n",
    "    p = y[:, 2:3]\n",
    "    T = y[:, 3:4]\n",
    "    du_x = dde.grad.jacobian(y, x, i=0, j=0)\n",
    "    du_z = dde.grad.jacobian(y, x, i=0, j=1)\n",
    "    du_t = dde.grad.jacobian(y, x, i=0, j=2)\n",
    "    dw_z = dde.grad.jacobian(y, x, i=1, j=1)\n",
    "    dp_x = dde.grad.jacobian(y, x, i=2, j=0)\n",
    "    dp_z = dde.grad.jacobian(y, x, i=2, j=1)\n",
    "    dT_x = dde.grad.jacobian(y, x, i=3, j=0)\n",
    "    dT_z = dde.grad.jacobian(y, x, i=3, j=1)\n",
    "    dT_t = dde.grad.jacobian(y, x, i=3, j=2)\n",
    "    du_xx = dde.grad.hessian(y, x, component=0, i=0, j=0)\n",
    "    du_zz = dde.grad.hessian(y, x, component=0, i=1, j=1)\n",
    "    dT_xx = dde.grad.hessian(y, x, component=3, i=0, j=0)\n",
    "    dT_zz = dde.grad.hessian(y, x, component=3, i=1, j=1)\n",
    "    \n",
    "    # PDE residuals\n",
    "    pde1 = du_t + u*du_x + w*du_z - v_h*du_xx - v_z*du_zz + dp_x\n",
    "    pde2 = dp_z + T\n",
    "    pde3 = du_x + dw_z\n",
    "    pde4 = dT_t + u*dT_x + w*dT_z - k_h*dT_xx - k_z*dT_zz\n",
    "    \n",
    "    return [pde1, pde2, pde3, pde4]\n",
    "\n",
    "# --Initial conditions--\n",
    "def init_cond_u(x):\n",
    "    return np.sin(np.pi*x[:, 0:1]) * np.cos(np.pi*x[:, 1:2])\n",
    "def init_cond_T(x):\n",
    "    return 0.0\n",
    "ic_u = dde.icbc.IC(geomtime, init_cond_u, lambda _, on_initial: on_initial, component=0)\n",
    "ic_T = dde.icbc.IC(geomtime, init_cond_T, lambda _, on_initial: on_initial, component=3)\n",
    "ics = [ic_u, ic_T]\n",
    "\n",
    "# --Boundary conditions for each function--\n",
    "def z_boundary(x, on_boundary):\n",
    "    return on_boundary and (np.isclose(x[1], 0) or np.isclose(x[1], 1))\n",
    "\n",
    "# this line is necessaryNumpy arrays default to float64\n",
    "dde.config.set_default_float('float64')\n",
    "\n",
    "ic_u = dde.icbc.IC(geomtime, init_cond_u, lambda _, on_initial: on_initial, component=0)\n",
    "ic_T = dde.icbc.IC(geomtime, init_cond_T, lambda _, on_initial: on_initial, component=3)\n",
    "ics = [ic_u, ic_T]\n",
    "bc_u_x = dde.icbc.PeriodicBC(geomtime, 0, lambda _, on_boundary: on_boundary, derivative_order=0, component=0)\n",
    "bc_u_z = dde.icbc.PeriodicBC(geomtime, 1, lambda _, on_boundary: on_boundary, derivative_order=0, component=0)\n",
    "bc_du_z = dde.icbc.NeumannBC(geomtime, lambda x: 0, z_boundary, component=0)\n",
    "\n",
    "bc_w_x = dde.icbc.PeriodicBC(geomtime, 0, lambda _, on_boundary: on_boundary, derivative_order=0, component=1)\n",
    "bc_w_z = dde.icbc.DirichletBC(geomtime, lambda x: 0, z_boundary, component=1)\n",
    "\n",
    "bc_p_x = dde.icbc.PeriodicBC(geomtime, 0, lambda _, on_boundary: on_boundary, derivative_order=0, component=2)\n",
    "bc_p_z = dde.icbc.PeriodicBC(geomtime, 1, lambda _, on_boundary: on_boundary, derivative_order=0, component=2)\n",
    "bc_dp_z = dde.icbc.NeumannBC(geomtime, lambda x: 0, z_boundary, component=2)\n",
    "\n",
    "bc_T_x = dde.icbc.PeriodicBC(geomtime, 0, lambda _, on_boundary: on_boundary, derivative_order=0, component=3)\n",
    "bc_T_z = dde.icbc.DirichletBC(geomtime, lambda x: 0, z_boundary, component=3)\n",
    "\n",
    "bcs = [bc_u_x, bc_u_z, bc_du_z, bc_w_x, bc_w_z, bc_p_x, bc_p_z, bc_dp_z, bc_T_x, bc_T_z]\n",
    "\n",
    "data = dde.data.TimePDE(\n",
    "    geomtime,\n",
    "    primitive_equations,\n",
    "    [*ics, *bcs],\n",
    "    num_domain=5000,\n",
    "    num_boundary=500,\n",
    "    num_initial=500,\n",
    "    train_distribution='uniform',\n",
    "    # solution=solution\n",
    ")\n",
    "\n",
    "# --Network architecture--\n",
    "layer_size = [3] + [128] * 2 + [4]\n",
    "activation = 'tanh'\n",
    "initializer = 'Glorot normal'\n",
    "net = dde.nn.FNN(layer_size, activation, initializer)\n",
    "\n",
    "model = dde.Model(data, net)\n",
    "model.compile('adam', lr=8e-4, loss='MSE')\n",
    "loss_history, train_state = model.train(epochs=100)\n",
    "dde.saveplot(loss_history, train_state, issave=True, isplot=True)"
   ],
   "metadata": {
    "collapsed": false,
    "pycharm": {
     "name": "#%%\n"
    }
   }
  }
 ],
 "metadata": {
  "kernelspec": {
   "display_name": "Python 3 (ipykernel)",
   "language": "python",
   "name": "python3"
  },
  "language_info": {
   "codemirror_mode": {
    "name": "ipython",
    "version": 3
   },
   "file_extension": ".py",
   "mimetype": "text/x-python",
   "name": "python",
   "nbconvert_exporter": "python",
   "pygments_lexer": "ipython3",
   "version": "3.10.5"
  }
 },
 "nbformat": 4,
 "nbformat_minor": 5
}